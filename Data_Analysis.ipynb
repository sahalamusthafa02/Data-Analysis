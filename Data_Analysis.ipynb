{
  "nbformat": 4,
  "nbformat_minor": 0,
  "metadata": {
    "colab": {
      "provenance": []
    },
    "kernelspec": {
      "name": "python3",
      "display_name": "Python 3"
    },
    "language_info": {
      "name": "python"
    }
  },
  "cells": [
    {
      "cell_type": "markdown",
      "source": [
        "Load data set"
      ],
      "metadata": {
        "id": "NdB-kDO2D_pF"
      }
    },
    {
      "cell_type": "code",
      "execution_count": null,
      "metadata": {
        "id": "DHFodqHap6N8"
      },
      "outputs": [],
      "source": [
        "import pandas as pd\n",
        "sales=pd.read_csv('sales.csv')\n",
        "sales"
      ]
    },
    {
      "cell_type": "markdown",
      "source": [
        "Load 1st 10 sets"
      ],
      "metadata": {
        "id": "A2W6KeaQELVu"
      }
    },
    {
      "cell_type": "code",
      "source": [
        "sales.head(10)\n"
      ],
      "metadata": {
        "id": "kcyzwzXrq_AR"
      },
      "execution_count": null,
      "outputs": []
    },
    {
      "cell_type": "markdown",
      "source": [
        "Load only invoice details"
      ],
      "metadata": {
        "id": "89Jm2GjQESPU"
      }
    },
    {
      "cell_type": "code",
      "source": [
        "sales['Invoice ID']"
      ],
      "metadata": {
        "id": "mr5uxZ8jrLIN"
      },
      "execution_count": null,
      "outputs": []
    },
    {
      "cell_type": "markdown",
      "source": [
        "Load only category\n"
      ],
      "metadata": {
        "id": "u5I2Tj0ZEbWS"
      }
    },
    {
      "cell_type": "code",
      "source": [
        "sales['Category']"
      ],
      "metadata": {
        "id": "7jAUlsw_rRiZ"
      },
      "execution_count": null,
      "outputs": []
    },
    {
      "cell_type": "markdown",
      "source": [
        "Load unique category\n"
      ],
      "metadata": {
        "id": "V0F7eQmOEtNa"
      }
    },
    {
      "cell_type": "code",
      "source": [
        "sales['Category'].unique()"
      ],
      "metadata": {
        "id": "Wo66uf2erPph"
      },
      "execution_count": null,
      "outputs": []
    },
    {
      "cell_type": "markdown",
      "source": [
        "Load last 10 details\n"
      ],
      "metadata": {
        "id": "KUYutFe7Ez9l"
      }
    },
    {
      "cell_type": "code",
      "source": [
        "sales.tail()"
      ],
      "metadata": {
        "id": "dmuWRwRurXTT"
      },
      "execution_count": null,
      "outputs": []
    },
    {
      "cell_type": "markdown",
      "source": [
        "Load 1st few rows\n"
      ],
      "metadata": {
        "id": "MBuPZUSCFAao"
      }
    },
    {
      "cell_type": "code",
      "source": [
        "sales.head()"
      ],
      "metadata": {
        "id": "DhS6nBxCrYd4"
      },
      "execution_count": null,
      "outputs": []
    },
    {
      "cell_type": "markdown",
      "source": [
        "Gender=male"
      ],
      "metadata": {
        "id": "AvedsKpXFGGB"
      }
    },
    {
      "cell_type": "code",
      "source": [
        "sales[sales['Gender']=='Male']"
      ],
      "metadata": {
        "id": "BVMEo374rdFD"
      },
      "execution_count": null,
      "outputs": []
    },
    {
      "cell_type": "markdown",
      "source": [
        "1st few gender=male\n"
      ],
      "metadata": {
        "id": "ea8s7YDjFLko"
      }
    },
    {
      "cell_type": "code",
      "source": [
        "sales[sales['Gender']=='Male'].head()"
      ],
      "metadata": {
        "id": "-Gztl1zbriQT"
      },
      "execution_count": null,
      "outputs": []
    },
    {
      "cell_type": "markdown",
      "source": [
        "1st 10 gender=male\n"
      ],
      "metadata": {
        "id": "oZZdt46zFRPK"
      }
    },
    {
      "cell_type": "code",
      "source": [
        "sales[sales['Gender']=='Male'].head(10)"
      ],
      "metadata": {
        "id": "SN1NG36SrkvB"
      },
      "execution_count": null,
      "outputs": []
    },
    {
      "cell_type": "markdown",
      "source": [
        "Total>100"
      ],
      "metadata": {
        "id": "vXFSIdnVFTpp"
      }
    },
    {
      "cell_type": "code",
      "source": [
        "sales[sales['Total']>100]"
      ],
      "metadata": {
        "id": "ulxYwVbtrnBL"
      },
      "execution_count": null,
      "outputs": []
    },
    {
      "cell_type": "markdown",
      "source": [
        "Last few tota>100\n"
      ],
      "metadata": {
        "id": "m_ER1atrFbFy"
      }
    },
    {
      "cell_type": "code",
      "source": [
        "sales[sales['Total']>100].tail()"
      ],
      "metadata": {
        "id": "-M0pVesprql1"
      },
      "execution_count": null,
      "outputs": []
    },
    {
      "cell_type": "markdown",
      "source": [
        "Payment unique\n"
      ],
      "metadata": {
        "id": "w7xif93hFgRK"
      }
    },
    {
      "cell_type": "code",
      "source": [
        "sales['Payment'].unique()"
      ],
      "metadata": {
        "id": "-3pnK5V9rry7"
      },
      "execution_count": null,
      "outputs": []
    },
    {
      "cell_type": "markdown",
      "source": [
        "Payment=cash"
      ],
      "metadata": {
        "id": "8UJf9uuAFiD_"
      }
    },
    {
      "cell_type": "code",
      "source": [
        "sales[sales['Payment']=='Cash']"
      ],
      "metadata": {
        "id": "_JKvRkD_ru-E"
      },
      "execution_count": null,
      "outputs": []
    },
    {
      "cell_type": "markdown",
      "source": [
        "City=newyork\n"
      ],
      "metadata": {
        "id": "C7fSpOVxFpJE"
      }
    },
    {
      "cell_type": "code",
      "source": [
        "sales[sales['City']=='NewYork']"
      ],
      "metadata": {
        "id": "y8J2ielxrwoE"
      },
      "execution_count": null,
      "outputs": []
    },
    {
      "cell_type": "markdown",
      "source": [
        "From 100-200\n"
      ],
      "metadata": {
        "id": "UC3xBoBmFs9G"
      }
    },
    {
      "cell_type": "code",
      "source": [
        "sales[100:200]"
      ],
      "metadata": {
        "id": "Rr-X6PClr4C-"
      },
      "execution_count": null,
      "outputs": []
    },
    {
      "cell_type": "markdown",
      "source": [
        "Total\n"
      ],
      "metadata": {
        "id": "OKqP4K6qFxIB"
      }
    },
    {
      "cell_type": "code",
      "source": [
        "sales.sum()['Total']"
      ],
      "metadata": {
        "id": "MpvZjborr6f_"
      },
      "execution_count": null,
      "outputs": []
    },
    {
      "cell_type": "markdown",
      "source": [
        "Sum of quantity"
      ],
      "metadata": {
        "id": "T1ev96ygF57u"
      }
    },
    {
      "cell_type": "code",
      "source": [
        "sales.sum()['Quantity']"
      ],
      "metadata": {
        "id": "Qb9d_L6br9Tq"
      },
      "execution_count": null,
      "outputs": []
    },
    {
      "cell_type": "markdown",
      "source": [
        "Maximum\n"
      ],
      "metadata": {
        "id": "cdQOsi5PF-Hm"
      }
    },
    {
      "cell_type": "code",
      "source": [
        "sales.max()"
      ],
      "metadata": {
        "id": "DeQq_UC3sBYj"
      },
      "execution_count": null,
      "outputs": []
    },
    {
      "cell_type": "markdown",
      "source": [
        "Max total\n"
      ],
      "metadata": {
        "id": "ZV0G0bLbGNis"
      }
    },
    {
      "cell_type": "code",
      "source": [
        "sales.max()['Total']"
      ],
      "metadata": {
        "id": "i8DCO7AwsDPO"
      },
      "execution_count": null,
      "outputs": []
    },
    {
      "cell_type": "markdown",
      "source": [
        "Sales total & max total\n"
      ],
      "metadata": {
        "id": "L12Xo1M6GRGC"
      }
    },
    {
      "cell_type": "code",
      "source": [
        "sales[sales['Total']==sales.max()['Total']]"
      ],
      "metadata": {
        "id": "P298yFv4sE-4"
      },
      "execution_count": null,
      "outputs": []
    },
    {
      "cell_type": "markdown",
      "source": [
        "Minimum"
      ],
      "metadata": {
        "id": "RTYhBmUwGWYG"
      }
    },
    {
      "cell_type": "code",
      "source": [
        "sales['Total'].min()"
      ],
      "metadata": {
        "id": "gMg5TmQysHE3"
      },
      "execution_count": null,
      "outputs": []
    },
    {
      "cell_type": "markdown",
      "source": [
        "Min total"
      ],
      "metadata": {
        "id": "2Tv7v87LGd4e"
      }
    },
    {
      "cell_type": "code",
      "source": [
        "sales[sales['Total']==sales.min()['Total']]"
      ],
      "metadata": {
        "id": "9VLeQNobsLZ3"
      },
      "execution_count": null,
      "outputs": []
    },
    {
      "cell_type": "markdown",
      "source": [
        "Mean\n"
      ],
      "metadata": {
        "id": "yzpeJ4ffGi71"
      }
    },
    {
      "cell_type": "code",
      "source": [
        "sales.mean()['Total']"
      ],
      "metadata": {
        "id": "IQD0WUX_sPxK"
      },
      "execution_count": null,
      "outputs": []
    },
    {
      "cell_type": "markdown",
      "source": [
        "Group by city\n"
      ],
      "metadata": {
        "id": "VATlQOiWGmQY"
      }
    },
    {
      "cell_type": "code",
      "source": [
        "sales.groupby('City')"
      ],
      "metadata": {
        "id": "kyPTlXH-sRyM"
      },
      "execution_count": null,
      "outputs": []
    },
    {
      "cell_type": "markdown",
      "source": [
        "Group by city sum\n"
      ],
      "metadata": {
        "id": "Q44BiB2qGo7l"
      }
    },
    {
      "cell_type": "code",
      "source": [
        "sales.groupby('City').sum()"
      ],
      "metadata": {
        "id": "ZxdAC1wMsUZJ"
      },
      "execution_count": null,
      "outputs": []
    },
    {
      "cell_type": "markdown",
      "source": [
        "Group by city total\n"
      ],
      "metadata": {
        "id": "iZMy4G0CGth0"
      }
    },
    {
      "cell_type": "code",
      "source": [
        "sales.groupby('City').sum()['Total']"
      ],
      "metadata": {
        "id": "p5eInQvEsXe-"
      },
      "execution_count": null,
      "outputs": []
    },
    {
      "cell_type": "code",
      "source": [
        "sales.groupby('Date').sum()\n"
      ],
      "metadata": {
        "id": "N-0kygzssamX"
      },
      "execution_count": null,
      "outputs": []
    },
    {
      "cell_type": "code",
      "source": [
        "sales.groupby('Date').sum()['Total']"
      ],
      "metadata": {
        "id": "hyDmMAXQsjpO"
      },
      "execution_count": null,
      "outputs": []
    },
    {
      "cell_type": "code",
      "source": [
        "sales.groupby('Category').sum()['Total']\n"
      ],
      "metadata": {
        "id": "G_gzsaslso0c"
      },
      "execution_count": null,
      "outputs": []
    },
    {
      "cell_type": "markdown",
      "source": [
        "#which location has highest and lowest sales?\n",
        "#represent the sales on a barchart, also show the market share for each location using pie chart?\n"
      ],
      "metadata": {
        "id": "eQ_cPWZ-G8Sz"
      }
    },
    {
      "cell_type": "code",
      "source": [
        "location_list=sales.groupby('Location')\n",
        "location=[x for x,y in location_list]\n",
        "location\n",
        "sales.groupby('Location').sum()['Total']\n"
      ],
      "metadata": {
        "id": "so1_IFQas6Hw"
      },
      "execution_count": null,
      "outputs": []
    },
    {
      "cell_type": "markdown",
      "source": [
        " Plot bardiagram\n"
      ],
      "metadata": {
        "id": "LcCjkwXCHHvp"
      }
    },
    {
      "cell_type": "code",
      "source": [
        "import matplotlib.pyplot as plt\n",
        "plt.bar(location,sales.groupby('Location').sum()['Total'])\n"
      ],
      "metadata": {
        "id": "MA6Av57fs_1P"
      },
      "execution_count": null,
      "outputs": []
    },
    {
      "cell_type": "markdown",
      "source": [
        "Plot pie diagram\n"
      ],
      "metadata": {
        "id": "ILFf_oiZHM75"
      }
    },
    {
      "cell_type": "code",
      "source": [
        "plt.pie(sales.groupby('Location').sum()['Total'],labels=location,autopct='%1.1f%%')"
      ],
      "metadata": {
        "id": "Qs9Toh4otFzD"
      },
      "execution_count": null,
      "outputs": []
    },
    {
      "cell_type": "markdown",
      "source": [
        "#which location has more female customers and which location has more male\n"
      ],
      "metadata": {
        "id": "H0S24S26HQN3"
      }
    },
    {
      "cell_type": "code",
      "source": [
        "location_sales=sales.groupby(['Gender','Location']).count()['Invoice ID']\n",
        "location_sales\n",
        "location_sales.unstack(level=0)\n",
        "unsatcked_sales=location_sales.unstack(level=0)"
      ],
      "metadata": {
        "id": "uCv5E1ZptOOT"
      },
      "execution_count": 34,
      "outputs": []
    },
    {
      "cell_type": "markdown",
      "source": [
        "Plot bar\n"
      ],
      "metadata": {
        "id": "Klk_bDajHVRV"
      }
    },
    {
      "cell_type": "code",
      "source": [
        "unsatcked_sales.plot(kind='bar')"
      ],
      "metadata": {
        "id": "6y5H2Kj-tTCl"
      },
      "execution_count": null,
      "outputs": []
    },
    {
      "cell_type": "code",
      "source": [
        "sales['Date']"
      ],
      "metadata": {
        "id": "RIuVyHb4AxV0"
      },
      "execution_count": null,
      "outputs": []
    },
    {
      "cell_type": "code",
      "source": [
        "pd.to_datetime(sales['Date'])"
      ],
      "metadata": {
        "id": "g3YSxBIcA4Vr"
      },
      "execution_count": null,
      "outputs": []
    },
    {
      "cell_type": "code",
      "source": [
        "pd.to_datetime(sales['Date']).dt.month"
      ],
      "metadata": {
        "id": "v6-cvSVxBAw7"
      },
      "execution_count": null,
      "outputs": []
    },
    {
      "cell_type": "code",
      "source": [
        "pd.to_datetime(sales['Date']).dt.day"
      ],
      "metadata": {
        "id": "TQby-1hcBIim"
      },
      "execution_count": null,
      "outputs": []
    },
    {
      "cell_type": "code",
      "source": [
        "sales['Day']=pd.to_datetime(sales['Date']).dt.day"
      ],
      "metadata": {
        "id": "FsrfyYukBLxh"
      },
      "execution_count": null,
      "outputs": []
    },
    {
      "cell_type": "code",
      "source": [
        "day_sales=sales.groupby('Day').sum()['Total']"
      ],
      "metadata": {
        "id": "cB9GjCgxBcFr"
      },
      "execution_count": null,
      "outputs": []
    },
    {
      "cell_type": "code",
      "source": [
        "day_sales"
      ],
      "metadata": {
        "id": "GynE0KRbBfq1"
      },
      "execution_count": null,
      "outputs": []
    },
    {
      "cell_type": "code",
      "source": [
        "day_sales.plot()"
      ],
      "metadata": {
        "id": "3PEbwaUpBXbv"
      },
      "execution_count": null,
      "outputs": []
    },
    {
      "cell_type": "markdown",
      "source": [
        "#which branch has more members Vs which has less members\n",
        "#which branch has highest rating and which has the lowest\n"
      ],
      "metadata": {
        "id": "bSvZti0dH6o8"
      }
    },
    {
      "cell_type": "code",
      "source": [
        "sales.head()"
      ],
      "metadata": {
        "id": "UsScuumXBrLK"
      },
      "execution_count": null,
      "outputs": []
    },
    {
      "cell_type": "code",
      "source": [
        "members=sales.groupby(['Member','Location']).count()['Invoice ID']\n",
        "members"
      ],
      "metadata": {
        "id": "cLbjmuaEBxvm"
      },
      "execution_count": null,
      "outputs": []
    },
    {
      "cell_type": "code",
      "source": [
        "members.unstack(level=0)"
      ],
      "metadata": {
        "id": "bDEr-8b8tj_A"
      },
      "execution_count": null,
      "outputs": []
    },
    {
      "cell_type": "code",
      "source": [
        "members.unstack(level=0).plot(kind='bar')"
      ],
      "metadata": {
        "id": "z5Rt2Eiet8t3"
      },
      "execution_count": null,
      "outputs": []
    },
    {
      "cell_type": "code",
      "source": [
        "sales.groupby(['Location']).mean()['Rating']\n"
      ],
      "metadata": {
        "id": "fC-ZG3H-CF4d"
      },
      "execution_count": null,
      "outputs": []
    },
    {
      "cell_type": "code",
      "source": [
        "rating=sales.groupby(['Location']).mean()['Rating']\n"
      ],
      "metadata": {
        "id": "hcrfS2P8CKta"
      },
      "execution_count": null,
      "outputs": []
    },
    {
      "cell_type": "code",
      "source": [
        "rating.plot(kind='bar')"
      ],
      "metadata": {
        "id": "8jKv5HL9CSHD"
      },
      "execution_count": null,
      "outputs": []
    },
    {
      "cell_type": "markdown",
      "source": [
        "#which city has more female shopping?\n",
        "#who spends more men or female?\n",
        "#which type of customer spends more member or none member\n",
        "#which product line sells more?\n",
        "#which product line is popular among men vs women?\n"
      ],
      "metadata": {
        "id": "FkOpvPmvH0q6"
      }
    },
    {
      "cell_type": "code",
      "source": [
        "sales.groupby(['City','Gender']).count()"
      ],
      "metadata": {
        "id": "qcz5PGmAuAok"
      },
      "execution_count": null,
      "outputs": []
    },
    {
      "cell_type": "code",
      "source": [
        "sales.groupby(['City','Gender']).count()['Invoice ID']"
      ],
      "metadata": {
        "id": "1ys46XvGCjpg"
      },
      "execution_count": null,
      "outputs": []
    },
    {
      "cell_type": "code",
      "source": [
        "female_shoppers=sales.groupby(['Gender','City']).count()['Invoice ID']\n",
        "female_shoppers.unstack(level=0)"
      ],
      "metadata": {
        "id": "x9Xat4vACofs"
      },
      "execution_count": null,
      "outputs": []
    },
    {
      "cell_type": "markdown",
      "source": [
        "Plot bar\n"
      ],
      "metadata": {
        "id": "c2cZ49s7HuvR"
      }
    },
    {
      "cell_type": "code",
      "source": [
        "female_shoppers.unstack(level=0).plot(kind='bar')"
      ],
      "metadata": {
        "id": "V0G1Ze5quGGi"
      },
      "execution_count": null,
      "outputs": []
    },
    {
      "cell_type": "code",
      "source": [
        "sales.groupby('Gender').sum()"
      ],
      "metadata": {
        "id": "-KiFWaWuC1JP"
      },
      "execution_count": null,
      "outputs": []
    },
    {
      "cell_type": "code",
      "source": [
        "sales.groupby('Gender').sum()['Total']"
      ],
      "metadata": {
        "id": "AwYUpqjyC6Ao"
      },
      "execution_count": null,
      "outputs": []
    },
    {
      "cell_type": "code",
      "source": [
        "spend=sales.groupby('Gender').sum()['Total']\n",
        "spend.plot(kind='bar')"
      ],
      "metadata": {
        "id": "5BvJU6_EDAqd"
      },
      "execution_count": null,
      "outputs": []
    },
    {
      "cell_type": "code",
      "source": [
        "sales.groupby('Member').sum()\n",
        "sales.groupby('Member').sum()['Total']"
      ],
      "metadata": {
        "id": "emV0xJ1wDEKd"
      },
      "execution_count": null,
      "outputs": []
    },
    {
      "cell_type": "code",
      "source": [
        "member_or_non=sales.groupby('Member').sum()['Total']\n",
        "member_or_non.plot(kind='bar')"
      ],
      "metadata": {
        "id": "bcOPLEyGDOQG"
      },
      "execution_count": null,
      "outputs": []
    },
    {
      "cell_type": "code",
      "source": [
        "sales.groupby(['Category']).count()\n",
        "sales.groupby(['Category']).count()['Rating']"
      ],
      "metadata": {
        "id": "jv8YhxmaDSQ4"
      },
      "execution_count": null,
      "outputs": []
    },
    {
      "cell_type": "code",
      "source": [
        "product_line=sales.groupby(['Category']).count()['Rating']\n",
        "product_line.plot(kind='bar')\n"
      ],
      "metadata": {
        "id": "A8wi8q7vDViZ"
      },
      "execution_count": null,
      "outputs": []
    },
    {
      "cell_type": "code",
      "source": [
        "sales.groupby(['Category','Gender']).count()['Rating']"
      ],
      "metadata": {
        "id": "OAwUyNhbDZWE"
      },
      "execution_count": null,
      "outputs": []
    },
    {
      "cell_type": "code",
      "source": [
        "products=sales.groupby(['Gender','Category']).count()['Rating']\n",
        "products.unstack(level=0)\n"
      ],
      "metadata": {
        "id": "5y4OYv3_Dd3H"
      },
      "execution_count": null,
      "outputs": []
    },
    {
      "cell_type": "code",
      "source": [
        "products.unstack(level=0).plot(kind='bar')"
      ],
      "metadata": {
        "id": "VwRTHh51Dkcr"
      },
      "execution_count": null,
      "outputs": []
    },
    {
      "cell_type": "markdown",
      "source": [
        "#which month has more sale\n"
      ],
      "metadata": {
        "id": "4DNOMZEnHm8o"
      }
    },
    {
      "cell_type": "code",
      "source": [
        "sales['Month']=pd.to_datetime(sales['Date']).dt.month\n",
        "sales.groupby('Month').sum()['Total']\n"
      ],
      "metadata": {
        "id": "tFVwE_8YuIza"
      },
      "execution_count": null,
      "outputs": []
    },
    {
      "cell_type": "code",
      "source": [
        "sales_by_month=sales.groupby('Month').sum()['Total']\n",
        "sales_by_month.plot(kind='bar')"
      ],
      "metadata": {
        "id": "NBytvwVjuHg3"
      },
      "execution_count": null,
      "outputs": []
    }
  ]
}